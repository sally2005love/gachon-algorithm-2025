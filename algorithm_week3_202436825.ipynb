{
  "nbformat": 4,
  "nbformat_minor": 0,
  "metadata": {
    "colab": {
      "provenance": [],
      "authorship_tag": "ABX9TyM3EdJ7Xu1jemHyRQ5qZrbX",
      "include_colab_link": true
    },
    "kernelspec": {
      "name": "python3",
      "display_name": "Python 3"
    },
    "language_info": {
      "name": "python"
    }
  },
  "cells": [
    {
      "cell_type": "markdown",
      "metadata": {
        "id": "view-in-github",
        "colab_type": "text"
      },
      "source": [
        "<a href=\"https://colab.research.google.com/github/sally2005love/gachon-algorithm-2025/blob/main/algorithm_week3_202436825.ipynb\" target=\"_parent\"><img src=\"https://colab.research.google.com/assets/colab-badge.svg\" alt=\"Open In Colab\"/></a>"
      ]
    },
    {
      "cell_type": "markdown",
      "source": [
        "### 🤍 연산 유형별 점화식 정리\n",
        "\n",
        "1. 상수연산\n",
        "- 점화식: T(n)=O(1)\n",
        "- 시간복잡도: O(1)\n",
        "- 예제 코드"
      ],
      "metadata": {
        "id": "56ArACI4mM02"
      }
    },
    {
      "cell_type": "code",
      "source": [
        "def const_operation(x):\n",
        "  return x * x"
      ],
      "metadata": {
        "id": "zJkYijkymSr2"
      },
      "execution_count": null,
      "outputs": []
    },
    {
      "cell_type": "markdown",
      "source": [
        "2. 선형 반복문\n",
        "- 점화식: T(n)=T(n−1)+O(1)\n",
        "- 시간복잡도: O(n)\n",
        "- 예제 코드"
      ],
      "metadata": {
        "id": "2hCcggImnXa9"
      }
    },
    {
      "cell_type": "code",
      "source": [
        "def linear_loop(n):\n",
        "  sum = 0\n",
        "  for i in range(n):\n",
        "    sum += i\n",
        "  return sum"
      ],
      "metadata": {
        "id": "RWQyHYqnnahn"
      },
      "execution_count": 2,
      "outputs": []
    },
    {
      "cell_type": "markdown",
      "source": [
        "3. 이중 루프\n",
        "- 점화식: T(n) = n⋅T(n−1) + O(1) 또는 단순히 O(n^2)\n",
        "- 시간복잡도: O(n^2)\n",
        "- 예제 코드"
      ],
      "metadata": {
        "id": "LWTRiiA0oSlQ"
      }
    },
    {
      "cell_type": "code",
      "source": [
        "def double_loop():\n",
        "  for i in range(8, 10):  # 8단부터 9단\n",
        "    for j in range(1, 10):  # 1부터 9\n",
        "        print(f\"{i} × {j} = {i*j}\")\n",
        "    print()  # 각 단 사이에 빈 줄\n",
        "\n",
        "double_loop()"
      ],
      "metadata": {
        "colab": {
          "base_uri": "https://localhost:8080/"
        },
        "id": "kuaDCVqrn8V6",
        "outputId": "ec9a6d80-8e2a-4be7-a8dd-e439996ee3c8"
      },
      "execution_count": 5,
      "outputs": [
        {
          "output_type": "stream",
          "name": "stdout",
          "text": [
            "8 × 1 = 8\n",
            "8 × 2 = 16\n",
            "8 × 3 = 24\n",
            "8 × 4 = 32\n",
            "8 × 5 = 40\n",
            "8 × 6 = 48\n",
            "8 × 7 = 56\n",
            "8 × 8 = 64\n",
            "8 × 9 = 72\n",
            "\n",
            "9 × 1 = 9\n",
            "9 × 2 = 18\n",
            "9 × 3 = 27\n",
            "9 × 4 = 36\n",
            "9 × 5 = 45\n",
            "9 × 6 = 54\n",
            "9 × 7 = 63\n",
            "9 × 8 = 72\n",
            "9 × 9 = 81\n",
            "\n"
          ]
        }
      ]
    },
    {
      "cell_type": "markdown",
      "source": [
        "4. 로그 연산\n",
        "- 점화식: T(n) = T(n/2) + O(1)\n",
        "- 시간복잡도: O(logn)\n",
        "- 예제 코드"
      ],
      "metadata": {
        "id": "jZGxJ384rPbc"
      }
    },
    {
      "cell_type": "code",
      "source": [
        "def binary_search(arr, target):\n",
        "  left, right = 0, len(arr) - 1   # left는 첫원소의 인덱스, right는 마지막 원소의 인덱스\n",
        "  while left <= right:            # 탐색범위가 유효할 동안 계속 반복\n",
        "    mid = (left + right) // 2     # //는 정수 나눗셈(소숫점 버림)\n",
        "    if arr[mid] == target:\n",
        "      return mid                  # 찾으면 인덱스 반환\n",
        "    elif arr[mid] < target:\n",
        "      left = mid + 1              # 타겟이 더 크면 오른쪽 부분 탐색\n",
        "    else:\n",
        "      right = mid - 1             # 타겟이 더 작으면 왼쪽 부분 탐색\n",
        "  return -1\n",
        "\n",
        "  # 로그연산인 이유: 매번 탐색 범위가 절반으로 줄어들기 때문\n"
      ],
      "metadata": {
        "id": "Kj5x3j36rbxT"
      },
      "execution_count": null,
      "outputs": []
    },
    {
      "cell_type": "markdown",
      "source": [
        "5. 분할 정복 (Divide & Conquer)\n",
        "- 점화식: T(n)=2T(n/2)+O(n)\n",
        "- 시간복잡도: O(nlogn)\n",
        "- 예제 코드"
      ],
      "metadata": {
        "id": "HiMn9HjCnmY6"
      }
    },
    {
      "cell_type": "code",
      "source": [
        "def merge_sort(arr):\n",
        "    if len(arr) <= 1:\n",
        "        return arr\n",
        "    mid = len(arr)//2\n",
        "    left = merge_sort(arr[:mid])\n",
        "    right = merge_sort(arr[mid:])\n",
        "    return merge(left, right)\n",
        "\n",
        "def merge(left, right):\n",
        "    result, i, j = [], 0, 0\n",
        "    while i < len(left) and j < len(right):\n",
        "        if left[i] < right[j]:\n",
        "            result.append(left[i]); i += 1\n",
        "        else:\n",
        "            result.append(right[j]); j += 1\n",
        "    result.extend(left[i:]); result.extend(right[j:])\n",
        "    return result"
      ],
      "metadata": {
        "id": "_tHIqsDzn0Cg"
      },
      "execution_count": null,
      "outputs": []
    },
    {
      "cell_type": "markdown",
      "source": [
        "6. 지수 연산 (Exponential Operation)\n",
        "- 점화식: T(n)=T(n−1)+T(n−2)+O(1)\n",
        "- 시간복잡도: O(2n)\n",
        "- 예제 코드"
      ],
      "metadata": {
        "id": "JMI1NUjX83-A"
      }
    },
    {
      "cell_type": "code",
      "source": [
        "def fibonacci(n):\n",
        "    if n <= 1:\n",
        "        return n\n",
        "    return fibonacci(n-1) + fibonacci(n-2)"
      ],
      "metadata": {
        "id": "_6Iet-s09DsK"
      },
      "execution_count": null,
      "outputs": []
    },
    {
      "cell_type": "code",
      "source": [
        "def print_pegs(pegs):\n",
        "    for peg, disks in pegs.items():\n",
        "        print(f\"{peg}: {disks}\")\n",
        "    print(\"-\" * 30)"
      ],
      "metadata": {
        "id": "coQfDrxeHZMP"
      },
      "execution_count": 6,
      "outputs": []
    },
    {
      "cell_type": "markdown",
      "source": [
        "### 🤍 하노이탑 기둥이 3개 → 4개일 때 비교 설명하기\n",
        "\n",
        "(1) 3기둥 알고리즘\n",
        "- 점화식: T(n)=2T(n−1)+1\n",
        "- 이동 횟수: 2^n - 1\n",
        "- 시간복잡도: O(2^n)\n",
        "- 공간복잡도: O(n) (재귀 호출 스택)\n",
        "- 예제 코드:\n"
      ],
      "metadata": {
        "id": "H9GyS_DN9WHQ"
      }
    },
    {
      "cell_type": "code",
      "source": [
        "def hanoi3(n, source, target, auxiliary, pegs, step=[0]):\n",
        "    if n == 1:\n",
        "        step[0] += 1\n",
        "        print(f\"Step {step[0]}: Move disk from {source} -> {target}\")\n",
        "        pegs[target].append(pegs[source].pop())\n",
        "        print_pegs(pegs)\n",
        "    else:\n",
        "        hanoi3(n - 1, source, auxiliary, target, pegs, step)\n",
        "        step[0] += 1\n",
        "        print(f\"Step {step[0]}: Move disk from {source} -> {target}\")\n",
        "        pegs[target].append(pegs[source].pop())\n",
        "        print_pegs(pegs)\n",
        "        hanoi3(n - 1, auxiliary, target, source, pegs, step)\n"
      ],
      "metadata": {
        "id": "1qc8oVCS9yZg"
      },
      "execution_count": 7,
      "outputs": []
    },
    {
      "cell_type": "markdown",
      "source": [
        "(2) 4기둥 알고리즘 (Reve's Puzzle)\n",
        "- 점화식: T(n) = min{2T(k) + 2^(n-k) - 1 | 1 ≤ k ≤ n-1}\n",
        "- 이동횟수: T(n) = 2^(1 + √(2n + 1/4)) - 1 (근사값)\n",
        "- 시간복잡도: O(2^√n)\n",
        "- 공간복잡도: O(√n) (재귀 호출 스택)\n",
        "- 예제코드:\n"
      ],
      "metadata": {
        "id": "qcwfQxK0E_2y"
      }
    },
    {
      "cell_type": "code",
      "source": [
        "def hanoi4(n, source, target, aux1, aux2, pegs, step=[0]):\n",
        "    if n == 0:\n",
        "        return\n",
        "    if n == 1:\n",
        "        step[0] += 1\n",
        "        print(f\"Step {step[0]}: Move disk from {source} -> {target}\")\n",
        "        pegs[target].append(pegs[source].pop())\n",
        "        print_pegs(pegs)\n",
        "    else:\n",
        "        k = n // 2\n",
        "        hanoi4(k, source, aux1, aux2, target, pegs, step)\n",
        "        hanoi3(n - k, source, target, aux2, pegs, step)\n",
        "        hanoi4(k, aux1, target, source, aux2, pegs, step)\n"
      ],
      "metadata": {
        "id": "dYQ46pN4FBUj"
      },
      "execution_count": 8,
      "outputs": []
    },
    {
      "cell_type": "markdown",
      "source": [
        "### 🤍텍스트 기반 시각화"
      ],
      "metadata": {
        "id": "4zgsW5YLG1d9"
      }
    },
    {
      "cell_type": "code",
      "source": [
        "if __name__ == \"__main__\":\n",
        "    n = 3\n",
        "\n",
        "    print(\"=== 3-Peg Hanoi ===\")\n",
        "    pegs3 = {'A': list(range(n, 0, -1)), 'B': [], 'C': []}\n",
        "    hanoi3(n, 'A', 'C', 'B', pegs3, step=[0])\n",
        "\n",
        "    print(\" \")\n",
        "    print(\"#\" * 80)\n",
        "\n",
        "    print(\"\\n=== 4-Peg Hanoi ===\")\n",
        "    pegs4 = {'A': list(range(n, 0, -1)), 'B': [], 'C': [], 'D': []}\n",
        "    hanoi4(n, 'A', 'D', 'B', 'C', pegs4, step=[0])"
      ],
      "metadata": {
        "colab": {
          "base_uri": "https://localhost:8080/"
        },
        "id": "xL7aMh74HjvT",
        "outputId": "37bfa545-8179-4e22-9f77-c5f291395aa0"
      },
      "execution_count": 14,
      "outputs": [
        {
          "output_type": "stream",
          "name": "stdout",
          "text": [
            "=== 3-Peg Hanoi ===\n",
            "Step 1: Move disk from A -> C\n",
            "A: [3, 2]\n",
            "B: []\n",
            "C: [1]\n",
            "------------------------------\n",
            "Step 2: Move disk from A -> B\n",
            "A: [3]\n",
            "B: [2]\n",
            "C: [1]\n",
            "------------------------------\n",
            "Step 3: Move disk from C -> B\n",
            "A: [3]\n",
            "B: [2, 1]\n",
            "C: []\n",
            "------------------------------\n",
            "Step 4: Move disk from A -> C\n",
            "A: []\n",
            "B: [2, 1]\n",
            "C: [3]\n",
            "------------------------------\n",
            "Step 5: Move disk from B -> A\n",
            "A: [1]\n",
            "B: [2]\n",
            "C: [3]\n",
            "------------------------------\n",
            "Step 6: Move disk from B -> C\n",
            "A: [1]\n",
            "B: []\n",
            "C: [3, 2]\n",
            "------------------------------\n",
            "Step 7: Move disk from A -> C\n",
            "A: []\n",
            "B: []\n",
            "C: [3, 2, 1]\n",
            "------------------------------\n",
            " \n",
            "################################################################################\n",
            "\n",
            "=== 4-Peg Hanoi ===\n",
            "Step 1: Move disk from A -> B\n",
            "A: [3, 2]\n",
            "B: [1]\n",
            "C: []\n",
            "D: []\n",
            "------------------------------\n",
            "Step 2: Move disk from A -> C\n",
            "A: [3]\n",
            "B: [1]\n",
            "C: [2]\n",
            "D: []\n",
            "------------------------------\n",
            "Step 3: Move disk from A -> D\n",
            "A: []\n",
            "B: [1]\n",
            "C: [2]\n",
            "D: [3]\n",
            "------------------------------\n",
            "Step 4: Move disk from C -> D\n",
            "A: []\n",
            "B: [1]\n",
            "C: []\n",
            "D: [3, 2]\n",
            "------------------------------\n",
            "Step 5: Move disk from B -> D\n",
            "A: []\n",
            "B: []\n",
            "C: []\n",
            "D: [3, 2, 1]\n",
            "------------------------------\n"
          ]
        }
      ]
    }
  ]
}