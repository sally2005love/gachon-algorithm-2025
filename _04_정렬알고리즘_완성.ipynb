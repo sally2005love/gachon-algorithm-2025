{
  "cells": [
    {
      "cell_type": "markdown",
      "metadata": {
        "id": "view-in-github",
        "colab_type": "text"
      },
      "source": [
        "<a href=\"https://colab.research.google.com/github/Joyschool/gachon-algorithm-2025/blob/main/_04_%EC%A0%95%EB%A0%AC%EC%95%8C%EA%B3%A0%EB%A6%AC%EC%A6%98_%EC%99%84%EC%84%B1.ipynb\" target=\"_parent\"><img src=\"https://colab.research.google.com/assets/colab-badge.svg\" alt=\"Open In Colab\"/></a>"
      ]
    },
    {
      "cell_type": "markdown",
      "id": "f44bcd12",
      "metadata": {
        "id": "f44bcd12"
      },
      "source": [
        "# 정렬 알고리즘"
      ]
    },
    {
      "cell_type": "markdown",
      "id": "d9719ece",
      "metadata": {
        "id": "d9719ece"
      },
      "source": [
        "------------------------------"
      ]
    },
    {
      "cell_type": "markdown",
      "id": "e6e94c54",
      "metadata": {
        "id": "e6e94c54"
      },
      "source": [
        "## 1.정렬 알고리즘 개요"
      ]
    },
    {
      "cell_type": "markdown",
      "id": "4beb72f6-ac6e-485d-b287-784668d387e6",
      "metadata": {
        "id": "4beb72f6-ac6e-485d-b287-784668d387e6"
      },
      "source": [
        "### [Quiz] 임의의 정수 20개를 오름 차순으로 정렬(1<=N<=100)"
      ]
    },
    {
      "cell_type": "code",
      "execution_count": null,
      "id": "af2d39b5-f899-4fdc-9a5e-343ea430beb6",
      "metadata": {
        "id": "af2d39b5-f899-4fdc-9a5e-343ea430beb6"
      },
      "outputs": [],
      "source": [
        "import random\n",
        "numbers =  [ random.randint(1, 100) for _ in range(20) ]\n",
        "print(f\"before: {numbers}\")\n",
        "print(f\"after: {sorted(numbers, reverse=False)}\")"
      ]
    },
    {
      "cell_type": "code",
      "execution_count": null,
      "id": "06a4cf21-1971-4181-a19c-184b7c5c48c8",
      "metadata": {
        "id": "06a4cf21-1971-4181-a19c-184b7c5c48c8"
      },
      "outputs": [],
      "source": [
        "numbers.sort(reverse=False); print(f\"after: {numbers}\")"
      ]
    },
    {
      "cell_type": "markdown",
      "id": "c9ab2bd6-dfcc-4397-a5b2-eed08fb6fcdc",
      "metadata": {
        "id": "c9ab2bd6-dfcc-4397-a5b2-eed08fb6fcdc"
      },
      "source": [
        "### [Quiz] 알파벳 소문자로 된 임의의 길이(2~10)의 임의의 문자열 10개를 만들어 오름차순으로 정렬하기(알파벳)"
      ]
    },
    {
      "cell_type": "code",
      "source": [
        "help(string)"
      ],
      "metadata": {
        "collapsed": true,
        "id": "enrBcPqlHmkR"
      },
      "id": "enrBcPqlHmkR",
      "execution_count": null,
      "outputs": []
    },
    {
      "cell_type": "code",
      "source": [
        "# 알파벳으로 구성된 임의의 문자열 생성\n",
        "import string\n",
        "import random\n",
        "\n",
        "print(f'소문자 :        {string.ascii_lowercase}')\n",
        "print(f'대문자 :        {string.ascii_uppercase}')\n",
        "print(f'소문자+대문자 : {string.ascii_letters}')\n",
        "\n",
        "n = 10\n",
        "strings = []\n",
        "for _ in range(n):\n",
        "    _len = random.randint(2, 10)\n",
        "    result = random.choices(string.ascii_lowercase, k=_len) # 임의로 2개 선택\n",
        "    strings.append(''.join(result))\n",
        "print(f'임의의 문자열 {n}개 : {strings}')\n",
        "strings.sort(reverse=False)\n",
        "print(f'정렬된 문자열 : {strings}')"
      ],
      "metadata": {
        "id": "WTB-_4qMEyRn"
      },
      "id": "WTB-_4qMEyRn",
      "execution_count": null,
      "outputs": []
    },
    {
      "cell_type": "code",
      "execution_count": null,
      "id": "f7d92901-6ca8-4135-bf72-817fd601af70",
      "metadata": {
        "scrolled": true,
        "id": "f7d92901-6ca8-4135-bf72-817fd601af70"
      },
      "outputs": [],
      "source": [
        "import string\n",
        "import random\n",
        "\n",
        "strings = []\n",
        "for _ in range(10):\n",
        "    _len: int = random.randint(4,12)\n",
        "    result: str = ''.join(random.choices(string.ascii_lowercase, k=_len))\n",
        "    strings.append(result)\n",
        "print(f\"before: {strings}\")\n",
        "strings.sort(reverse=False); print(f\"after: {strings}\")"
      ]
    },
    {
      "cell_type": "markdown",
      "id": "b27363f1-95f4-4fca-bc4c-bd6e3f54489d",
      "metadata": {
        "id": "b27363f1-95f4-4fca-bc4c-bd6e3f54489d"
      },
      "source": [
        "------------------------------------"
      ]
    },
    {
      "cell_type": "markdown",
      "id": "e5b77bc4-8350-44a3-9d44-23e075bcb0be",
      "metadata": {
        "id": "e5b77bc4-8350-44a3-9d44-23e075bcb0be"
      },
      "source": [
        "### **[참고] 정렬 동작 애니메이션 기능 추가**"
      ]
    },
    {
      "cell_type": "markdown",
      "id": "2abde08e-9fd9-4fb5-8f6f-a1bc297bf3ef",
      "metadata": {
        "id": "2abde08e-9fd9-4fb5-8f6f-a1bc297bf3ef"
      },
      "source": [
        "#### 1. matplotlib animation 기능 사용"
      ]
    },
    {
      "cell_type": "code",
      "execution_count": null,
      "id": "e014c050-f54f-4ef1-b1fb-bbc1acbf2260",
      "metadata": {
        "scrolled": true,
        "id": "e014c050-f54f-4ef1-b1fb-bbc1acbf2260"
      },
      "outputs": [],
      "source": [
        "# 그래프 그리기 위한 준비\n",
        "%matplotlib inline\n",
        "import random\n",
        "import matplotlib.pyplot as plt\n",
        "import matplotlib.animation as animation\n",
        "\n",
        "# 버블 정렬(Bubble Sort) 알고리즘\n",
        "def bubble_sort(arr):\n",
        "    n = len(arr)\n",
        "    for i in range(n):\n",
        "        for j in range(0, n-i-1):\n",
        "            if arr[j] > arr[j+1]:\n",
        "                arr[j], arr[j+1] = arr[j+1], arr[j]\n",
        "            yield arr\n",
        "\n",
        "def update_fig(arr, bars, iteration):   # 막대의 움직임 나타내기\n",
        "    for bar, val in zip(bars, arr):\n",
        "        bar.set_height(val)\n",
        "    iteration[0] += 1\n",
        "    text.set_text(\"Operations: {}\".format(iteration[0]))  # operation 횟수 출력\n",
        "\n",
        "\n",
        "# 그래프 그리기고 동작시키기\n",
        "def draw_graph(arr, sort_func, graph_title):\n",
        "    global iteration, bars, text\n",
        "\n",
        "    iteration=[0]   # operation 횟수 초기화\n",
        "\n",
        "    plt.figure(figsize=(6, 4))             # 그래프 크기\n",
        "    fig, ax = plt.subplots()                # 그래프 객체\n",
        "    bars = ax.bar(range(1,len(arr)+1), arr, color='royalblue')   # 막대 그래프 (X, Y, 색상)\n",
        "    text = ax.text(0.02, 0.95, \"\", transform=ax.transAxes)       # 텍스트 위치\n",
        "    ax.set_title(graph_title)             # 그래프 제목\n",
        "    ax.set_xlim(0, 21)                      # x축 눈금\n",
        "    ax.set_ylim(0, 20)                      # y축 눈금\n",
        "    ax.set_xticks(list(range(1,21)))        # x축 눈금 값 지정\n",
        "    plt.show()                              # 그래프 보여주기\n",
        "\n",
        "    iteration=[0]    # operation 횟수 초기화\n",
        "\n",
        "\n",
        "    # 그래프 애니메이션 동작 호출하기\n",
        "    anim = animation.FuncAnimation(fig,\n",
        "                               func=update_fig,\n",
        "                               frames=sort_func(arr),\n",
        "                               fargs=(bars, iteration),\n",
        "                               interval=100,    # milliseconds\n",
        "                               repeat=False, cache_frame_data=False)\n",
        "\n",
        "    return anim\n",
        "\n",
        "#-----------------\n",
        "# 시작\n",
        "#-----------------\n",
        "# 정렬할 임의의 데이터 만들기\n",
        "arr = [ random.randint(1, 20) for n in range(20) ]  # 데이터 리스트\n",
        "print(f'정렬할 데이터 : {arr}')\n",
        "\n",
        "sort_func = bubble_sort\n",
        "graph_title = \"Bubble Sort\"\n",
        "anim = draw_graph(arr, sort_func, graph_title) # 그래프 정렬 동작시키기\n",
        "\n",
        "\n",
        "# To view, use a notebook for example : 애니메이션용 그래프 화면에 출력하기\n",
        "# 주의! jupyter notebook 의 셀 마지막 라인에 넣어야 애니메이션 기능을 실행시킬 수 있음.\n",
        "#       그렇지 않으면 애니메이션 기능을 파일로 저장해서 볼 수 있도록 처리해야 한다.\n",
        "from IPython.display import HTML\n",
        "HTML(anim.to_jshtml())"
      ]
    },
    {
      "cell_type": "markdown",
      "id": "6bc78521-40dd-4bae-8140-21412c78ede4",
      "metadata": {
        "id": "6bc78521-40dd-4bae-8140-21412c78ede4"
      },
      "source": [
        "-----"
      ]
    },
    {
      "cell_type": "markdown",
      "id": "017d9435-2e3e-49b1-a506-1fcb088206dd",
      "metadata": {
        "id": "017d9435-2e3e-49b1-a506-1fcb088206dd"
      },
      "source": [
        "## 2.기초 정렬 알고리즘\n",
        "-  평균적으로 O(n^2)의 시간이 소요되는 정렬 알고리즘들\n",
        "-  데이터의 양이 많아질수록 성능이 급격히 저하됨\n",
        "    * 버블 정렬(Bubble Sort)\n",
        "    * 선택 정렬(Selection Sort)\n",
        "    * 삽입 정렬(Insertion Sort)"
      ]
    },
    {
      "cell_type": "markdown",
      "id": "b304ac06-8dbf-44d3-bf5b-1d315f30e5b9",
      "metadata": {
        "id": "b304ac06-8dbf-44d3-bf5b-1d315f30e5b9"
      },
      "source": [
        "### [실습] 버블 정렬(Bubble Sort)        "
      ]
    },
    {
      "cell_type": "code",
      "execution_count": null,
      "id": "dff013a1-1423-43fb-8d56-02de0a85399c",
      "metadata": {
        "collapsed": true,
        "id": "dff013a1-1423-43fb-8d56-02de0a85399c"
      },
      "outputs": [],
      "source": [
        "def bubble_sort(arr):\n",
        "    for n in range(len(arr), 0,-1): # 배열길이(n)~0까지 하나씩 감소\n",
        "        for j in range(n-1):\n",
        "            if arr[j] > arr[j+1]:\n",
        "                arr[j], arr[j+1] = arr[j+1], arr[j]\n",
        "    return arr\n",
        "\n",
        "\n",
        "arr = [13, 32, 26, 35, 10]\n",
        "print(\"정렬된 배열:\", bubble_sort(arr))"
      ]
    },
    {
      "cell_type": "markdown",
      "id": "ca382cb0-50a9-41a8-869a-5b74258284a3",
      "metadata": {
        "id": "ca382cb0-50a9-41a8-869a-5b74258284a3"
      },
      "source": [
        "### [실습] 선택 정렬(Selection Sort)"
      ]
    },
    {
      "cell_type": "code",
      "source": [
        "# 최대값 찾기 방식\n",
        "def selection_sort(arr):\n",
        "    for n in range(len(arr), 0, -1):\n",
        "        max_idx = n-1           # 배열의 끝 인덱스를 최대 인덱스로 지정\n",
        "        for j in range(n-1):    # n-1번 반복\n",
        "            if arr[j] > arr[max_idx]:   # 최대값 찾기\n",
        "                max_idx = j             # 최대값 인덱스 변경\n",
        "        arr[n-1], arr[max_idx] = arr[max_idx], arr[n-1] # 최대값을 현재 인덱스와 교환\n",
        "    return arr\n",
        "\n",
        "# 예시 사용\n",
        "arr = [29, 10, 14, 37, 13]\n",
        "print(\"정렬된 배열:\", selection_sort(arr))"
      ],
      "metadata": {
        "id": "VAZ_2X0CVMlP"
      },
      "id": "VAZ_2X0CVMlP",
      "execution_count": null,
      "outputs": []
    },
    {
      "cell_type": "markdown",
      "id": "b7e6a45d-3a89-4077-a2f8-00005d0dc47b",
      "metadata": {
        "id": "b7e6a45d-3a89-4077-a2f8-00005d0dc47b"
      },
      "source": [
        "### [실습] 삽입 정렬(Insertion Sort)"
      ]
    },
    {
      "cell_type": "code",
      "source": [
        "def insertion_sort(arr, n=len(arr)):\n",
        "    for i in range(1, n):\n",
        "        loc = i-1\t\t        # 정렬된 배열의 마지막 위치\n",
        "        newItem = arr[i]\t    # 삽입할 요소\n",
        "        while loc >= 0 and newItem < arr[loc]:\n",
        "            arr[loc+1] = arr[loc]\n",
        "            loc -= 1\n",
        "        arr[loc+1] = newItem    # 정렬된 배열 다음 위치에 추가\n",
        "\n",
        "    return arr\n",
        "\n",
        "# 예시 사용\n",
        "arr = [8, 11, 3, 5, 4, 20, 1, 15]\n",
        "print(\"정렬된 배열:\", insertion_sort(arr))"
      ],
      "metadata": {
        "id": "fq_PnXS_pBc7"
      },
      "id": "fq_PnXS_pBc7",
      "execution_count": null,
      "outputs": []
    },
    {
      "cell_type": "markdown",
      "source": [
        "- 재귀 방법 사용"
      ],
      "metadata": {
        "id": "u9yzaxJPwcED"
      },
      "id": "u9yzaxJPwcED"
    },
    {
      "cell_type": "code",
      "source": [
        "# 재귀방법 사용\n",
        "def insertion_sort_recursive(arr, n=len(arr)):\n",
        "\n",
        "    # 베이스 케이스: 배열의 첫 요소만 남으면 정렬된 상태\n",
        "    if n > 1:\n",
        "\n",
        "        # n-1개의 요소를 먼저 정렬\n",
        "        insertion_sort_recursive(arr, n - 1)\n",
        "\n",
        "        # 마지막 요소를 올바른 위치에 삽입\n",
        "        loc = n - 2\n",
        "        newItem = arr[n - 1]\n",
        "\n",
        "        while loc >= 0 and arr[loc] > newItem:\n",
        "            arr[loc + 1] = arr[loc]\n",
        "            loc -= 1\n",
        "        arr[loc+1] = newItem\n",
        "\n",
        "    return arr\n",
        "\n",
        "# 예시\n",
        "arr = [8, 11, 3, 5, 4, 20, 1, 15]\n",
        "print(\"정렬된 배열:\", insertion_sort_recursive(arr))\n"
      ],
      "metadata": {
        "id": "sKJGuXGCt318"
      },
      "id": "sKJGuXGCt318",
      "execution_count": null,
      "outputs": []
    },
    {
      "cell_type": "markdown",
      "id": "9d64eef6-a0f6-4dca-8d86-3609054e71e4",
      "metadata": {
        "id": "9d64eef6-a0f6-4dca-8d86-3609054e71e4"
      },
      "source": [
        "------------------------"
      ]
    },
    {
      "cell_type": "markdown",
      "id": "c0bf4803-de1b-4da8-bcc1-081f3c8f39d0",
      "metadata": {
        "id": "c0bf4803-de1b-4da8-bcc1-081f3c8f39d0"
      },
      "source": [
        "## 3.고급 정렬 알고리즘\n",
        "- 평균적으로 O(nlog⁡n)의 시간이 소요되는 정렬 알고리즘들\n",
        "- 이 범주에 속하는 알고리즘들은 대규모 데이터셋에 대해 좋은 성능을 보이며, 실제 응용 프로그램에서 널리 사용됨\n",
        "    * 퀵 정렬(Quick Sort)\n",
        "    * 병합 정렬(Merge Sort)\n",
        "    * 힙 정렬(Heap Sort)\n",
        "    * 셸 정렬(Shell Sort)"
      ]
    },
    {
      "cell_type": "markdown",
      "id": "2842fee0-1829-4d3f-b06e-ff6bb4332939",
      "metadata": {
        "id": "2842fee0-1829-4d3f-b06e-ff6bb4332939"
      },
      "source": [
        "### 3-1. 병합 정렬(Merge Sort)"
      ]
    },
    {
      "cell_type": "code",
      "execution_count": null,
      "id": "6fccbd50-3c5c-4f5d-b1a5-064a21077f70",
      "metadata": {
        "id": "6fccbd50-3c5c-4f5d-b1a5-064a21077f70"
      },
      "outputs": [],
      "source": [
        "def merge(left, right):\n",
        "    print('->left:', list(left), 'right:', list(right))\n",
        "    merged = []\n",
        "    l_idx, r_idx = 0, 0\n",
        "\n",
        "    # 두 부분 배열을 비교하면서 작은 값을 선택하여 병합\n",
        "    while l_idx < len(left) and r_idx < len(right):\n",
        "        if left[l_idx] < right[r_idx]:\n",
        "            merged.append(left[l_idx])\n",
        "            l_idx += 1\n",
        "        else:\n",
        "            merged.append(right[r_idx])\n",
        "            r_idx += 1\n",
        "\n",
        "    # 남은 요소들을 추가\n",
        "    merged += left[l_idx:]\n",
        "    merged += right[r_idx:]\n",
        "    print('->merged:', merged),\n",
        "    return merged\n",
        "\n",
        "def merge_sort(arr):\n",
        "    if len(arr) <= 1:\n",
        "        return arr\n",
        "\n",
        "    # 배열을 반으로 나눔\n",
        "    mid = len(arr) // 2\n",
        "    left = arr[:mid]\n",
        "    right = arr[mid:]\n",
        "\n",
        "    # 각 부분 배열에 대해 재귀적으로 병합 정렬 수행\n",
        "    left = merge_sort(left)\n",
        "    right = merge_sort(right)\n",
        "\n",
        "    # 정렬된 부분 배열을 병합\n",
        "    return merge(left, right)\n",
        "\n",
        "# 예시 사용\n",
        "arr = [12,31,25,8,32,17,40,42]\n",
        "print(\"정렬된 배열:\", merge_sort(arr))"
      ]
    },
    {
      "cell_type": "markdown",
      "id": "bf1fee57-fe27-4673-9a8a-0d64fef7b5be",
      "metadata": {
        "id": "bf1fee57-fe27-4673-9a8a-0d64fef7b5be"
      },
      "source": [
        "### 3-2. 퀵 정렬(Quick Sort)"
      ]
    },
    {
      "cell_type": "code",
      "execution_count": null,
      "id": "c88d3a95-2074-4754-9414-e56c30aefd17",
      "metadata": {
        "id": "c88d3a95-2074-4754-9414-e56c30aefd17"
      },
      "outputs": [],
      "source": [
        "def quick_sort(arr):\n",
        "    # 기본 조건: 배열이 길이 1 이하이면 이미 정렬된 상태\n",
        "    if len(arr) <= 1:\n",
        "        return arr\n",
        "\n",
        "    pivot = arr[0]  # 첫 번째 요소를 피벗으로 선택 또는 중앙값(arr[len(arr) // 2])\n",
        "    left = [x for x in arr[1:] if x < pivot]   # 피벗보다 작은 값들\n",
        "    right = [x for x in arr[1:] if x >= pivot] # 피벗보다 크거나 같은 값들\n",
        "\n",
        "    # 재귀적으로 정렬한 결과를 결합\n",
        "    return quick_sort(left) + [pivot] + quick_sort(right)\n",
        "\n",
        "\n",
        "# 예시 사용\n",
        "arr = [24, 9, 29, 14, 19, 27]\n",
        "print(\"정렬된 배열:\", quick_sort(arr))"
      ]
    },
    {
      "cell_type": "markdown",
      "id": "1d39d977-401c-417d-845f-abb48cebbd59",
      "metadata": {
        "id": "1d39d977-401c-417d-845f-abb48cebbd59"
      },
      "source": [
        "### 3-3. 힙 정렬(Heap Sort)"
      ]
    },
    {
      "cell_type": "code",
      "execution_count": null,
      "id": "6a7eecfa-5d15-4d2e-818f-5dbf4ef7c98d",
      "metadata": {
        "id": "6a7eecfa-5d15-4d2e-818f-5dbf4ef7c98d"
      },
      "outputs": [],
      "source": [
        "def heapify(arr, n, i):\n",
        "    largest = i          # 루트 노드\n",
        "    left = 2 * i + 1     # 왼쪽 자식\n",
        "    right = 2 * i + 2    # 오른쪽 자식\n",
        "\n",
        "    # 왼쪽 자식이 루트보다 크면\n",
        "    if left < n and arr[left] > arr[largest]:\n",
        "        largest = left\n",
        "\n",
        "    # 오른쪽 자식이 현재까지 가장 큰 노드보다 크면\n",
        "    if right < n and arr[right] > arr[largest]:\n",
        "        largest = right\n",
        "\n",
        "    # largest가 루트가 아니라면, swap 후 재귀 호출\n",
        "    if largest != i:\n",
        "        arr[i], arr[largest] = arr[largest], arr[i]\n",
        "        heapify(arr, n, largest)\n",
        "\n",
        "\n",
        "def heap_sort(arr):\n",
        "    n = len(arr)\n",
        "\n",
        "    # 1. 최대 힙(Max Heap) 구성\n",
        "    for i in range(n // 2 - 1, 0, -1):  # 마지막 부모 노드부터 시작\n",
        "        heapify(arr, n, i)\n",
        "\n",
        "    # 2. 하나씩 루트(최댓값)를 꺼내서 정렬 위치로 이동\n",
        "    for i in range(n - 1, 0, -1):\n",
        "        arr[0], arr[i] = arr[i], arr[0]  # 루트와 마지막 원소 교환\n",
        "        heapify(arr, i, 0)               # 남은 요소로 다시 힙 구성\n",
        "\n",
        "    return arr\n",
        "\n",
        "\n",
        "# 예시 사용\n",
        "arr = [81, 89, 9, 11, 14, 76, 54, 22]\n",
        "print(\"정렬된 배열:\", heap_sort(arr))"
      ]
    },
    {
      "cell_type": "markdown",
      "id": "a7d9b1e1-c099-4bf6-b5de-9fff191b8d01",
      "metadata": {
        "id": "a7d9b1e1-c099-4bf6-b5de-9fff191b8d01"
      },
      "source": [
        "### 3-4. 셸 정렬(Shell Sort)"
      ]
    },
    {
      "cell_type": "code",
      "execution_count": null,
      "id": "c506813c-7fd1-4730-88f7-301b5cef3dfb",
      "metadata": {
        "id": "c506813c-7fd1-4730-88f7-301b5cef3dfb"
      },
      "outputs": [],
      "source": [
        "def shell_sort(arr):\n",
        "    n = len(arr)\n",
        "    gap = n // 2  # 초기 간격 설정\n",
        "\n",
        "    # 간격을 줄여가면서 반복\n",
        "    while gap > 0:\n",
        "        # 삽입 정렬을 사용하여 각 부분 배열을 정렬\n",
        "        for i in range(gap, n):\n",
        "            temp = arr[i]\n",
        "            j = i\n",
        "            while j >= gap and arr[j - gap] > temp:\n",
        "                arr[j] = arr[j - gap]\n",
        "                j -= gap\n",
        "            arr[j] = temp\n",
        "            print(f\"gap: {gap} arr: {arr}\")\n",
        "        gap //= 2  # 간격을 줄임\n",
        "\n",
        "# 예시 사용\n",
        "arr = [33, 31, 40, 8, 12, 17, 25, 42]\n",
        "shell_sort(arr)\n",
        "print(\"정렬된 배열:\", arr)"
      ]
    },
    {
      "cell_type": "markdown",
      "id": "ca3733eb-856f-4ae7-a090-22a125268dfd",
      "metadata": {
        "id": "ca3733eb-856f-4ae7-a090-22a125268dfd"
      },
      "source": [
        "--------"
      ]
    },
    {
      "cell_type": "markdown",
      "id": "09eab8dd-3967-44d9-9d91-fdcaaaf0adde",
      "metadata": {
        "id": "09eab8dd-3967-44d9-9d91-fdcaaaf0adde"
      },
      "source": [
        "## 4.특수 정렬 알고리즘\n",
        "- 원소들이 특수한 성질을 만족(특정 조건에서)하면 Θ(n) 정렬도 가능하다\n",
        "- 이 알고리즘들은 비교 기반의 정렬 방법이 아니며, 특정 조건하에서 선형 시간에 가까운 성능을 보임\n",
        "    * ex:  계수 정렬과 기수 정렬은 정수나 작은 범위의 숫자를 정렬할 때 매우 효율적임\n",
        "    * 계수 정렬(Counting Sort)\n",
        "    * 기수 정렬(Radix Sort)\n",
        "    * 버킷 정렬(Bucket Sort)"
      ]
    },
    {
      "cell_type": "markdown",
      "id": "2add3e3a-a7c5-4bf7-8c8e-7b03ec1e3023",
      "metadata": {
        "id": "2add3e3a-a7c5-4bf7-8c8e-7b03ec1e3023"
      },
      "source": [
        "### 4-1. 계수 정렬(Counting Sort)"
      ]
    },
    {
      "cell_type": "code",
      "execution_count": null,
      "id": "7bb9cdbd-651b-4fc7-9b44-8994dd76cc6e",
      "metadata": {
        "id": "7bb9cdbd-651b-4fc7-9b44-8994dd76cc6e"
      },
      "outputs": [],
      "source": [
        "def counting_sort(arr):\n",
        "    # 배열의 최댓값을 찾아 카운트 배열을 생성합니다.\n",
        "    max_val = max(arr)\n",
        "    count = [0] * (max_val + 1)\n",
        "\n",
        "    # 각 원소의 개수를 카운트합니다.\n",
        "    for num in arr:\n",
        "        count[num] += 1\n",
        "\n",
        "    # 정렬된 배열을 저장할 리스트를 생성합니다.\n",
        "    sorted_arr = []\n",
        "\n",
        "    # 카운트 배열을 사용하여 정렬된 배열을 생성합니다.\n",
        "    for i in range(len(count)):\n",
        "        sorted_arr.extend([i] * count[i])\n",
        "\n",
        "    return sorted_arr\n",
        "\n",
        "# 예시 사용\n",
        "arr = [2, 9, 7, 4, 1, 8, 4]\n",
        "sorted_arr = counting_sort(arr)\n",
        "print(\"정렬된 배열:\", sorted_arr)"
      ]
    },
    {
      "cell_type": "markdown",
      "id": "fdce48d5-28b0-4a28-9681-58e55030e8e7",
      "metadata": {
        "id": "fdce48d5-28b0-4a28-9681-58e55030e8e7"
      },
      "source": [
        "### 4-2. 기수 정렬(Radix Sort)"
      ]
    },
    {
      "cell_type": "code",
      "execution_count": null,
      "id": "f0690286-b35e-495c-ba90-b88bcf18c9c8",
      "metadata": {
        "id": "f0690286-b35e-495c-ba90-b88bcf18c9c8"
      },
      "outputs": [],
      "source": [
        "def counting_sort(arr, exp):\n",
        "    n = len(arr)\n",
        "    output = [0] * n\n",
        "    count = [0] * 10\n",
        "\n",
        "    # 각 자릿수에 해당하는 값의 등장 횟수를 세기\n",
        "    for i in range(n):\n",
        "        index = arr[i] // exp\n",
        "        count[index % 10] += 1\n",
        "\n",
        "    # 등장 횟수를 누적 합으로 변경\n",
        "    for i in range(1, 10):\n",
        "        count[i] += count[i - 1]\n",
        "\n",
        "    # output 배열에 요소를 정렬하여 배치\n",
        "    i = n - 1\n",
        "    while i >= 0:\n",
        "        index = arr[i] // exp\n",
        "        output[count[index % 10] - 1] = arr[i]\n",
        "        count[index % 10] -= 1\n",
        "        i -= 1\n",
        "\n",
        "    # 원래 배열로 복사\n",
        "    for i in range(n):\n",
        "        arr[i] = output[i]\n",
        "\n",
        "def radix_sort(arr):\n",
        "    # 최대값 찾기\n",
        "    max_val = max(arr)\n",
        "\n",
        "    # 최대값을 기준으로 각 자릿수에 대해 counting sort 수행\n",
        "    exp = 1\n",
        "    while max_val // exp > 0:\n",
        "        counting_sort(arr, exp)\n",
        "        exp *= 10\n",
        "\n",
        "# 예시 사용\n",
        "arr = [181, 289, 390, 121, 145, 736, 514, 212]\n",
        "radix_sort(arr)\n",
        "print(\"정렬된 배열:\", arr)"
      ]
    },
    {
      "cell_type": "markdown",
      "id": "a6b2304f-93a0-41bd-8bcb-886603bd28ee",
      "metadata": {
        "id": "a6b2304f-93a0-41bd-8bcb-886603bd28ee"
      },
      "source": [
        "### 4-3. 버킷 정렬(Bucket Sort)"
      ]
    },
    {
      "cell_type": "code",
      "execution_count": null,
      "id": "f04c278c-0e39-4e7b-b075-35562f1198b5",
      "metadata": {
        "id": "f04c278c-0e39-4e7b-b075-35562f1198b5"
      },
      "outputs": [],
      "source": [
        "def insertion_sort(bucket):\n",
        "    for i in range(1, len(bucket)):\n",
        "        key = bucket[i]\n",
        "        j = i - 1\n",
        "        while j >= 0 and bucket[j] > key:\n",
        "            bucket[j + 1] = bucket[j]\n",
        "            j -= 1\n",
        "        bucket[j + 1] = key\n",
        "\n",
        "def bucket_sort(arr):\n",
        "    # 입력 배열의 최댓값 찾기\n",
        "    max_val = max(arr)\n",
        "    # 버킷 개수 결정\n",
        "    num_buckets = len(arr)\n",
        "    # 각 버킷 초기화\n",
        "    buckets = [[] for _ in range(num_buckets)]\n",
        "    # 각 요소를 적절한 버킷에 할당\n",
        "    for num in arr:\n",
        "        index = num * num_buckets // (max_val + 1)\n",
        "        buckets[index].append(num)\n",
        "    # 각 버킷 정렬\n",
        "    for bucket in buckets:\n",
        "        insertion_sort(bucket)\n",
        "    # 정렬된 버킷을 합쳐 최종 결과 생성\n",
        "    k = 0\n",
        "    for bucket in buckets:\n",
        "        for num in bucket:\n",
        "            arr[k] = num\n",
        "            k += 1\n",
        "\n",
        "# 예시 사용\n",
        "arr = [0.897, 0.565, 0.656, 0.1234, 0.665, 0.3434]\n",
        "bucket_sort(arr)\n",
        "print(\"정렬된 배열:\", arr)"
      ]
    },
    {
      "cell_type": "markdown",
      "id": "1f45a9a3",
      "metadata": {
        "jp-MarkdownHeadingCollapsed": true,
        "id": "1f45a9a3"
      },
      "source": [
        "-----------------"
      ]
    }
  ],
  "metadata": {
    "kernelspec": {
      "display_name": "Python 3 (ipykernel)",
      "language": "python",
      "name": "python3"
    },
    "language_info": {
      "codemirror_mode": {
        "name": "ipython",
        "version": 3
      },
      "file_extension": ".py",
      "mimetype": "text/x-python",
      "name": "python",
      "nbconvert_exporter": "python",
      "pygments_lexer": "ipython3",
      "version": "3.12.1"
    },
    "colab": {
      "provenance": [],
      "toc_visible": true,
      "include_colab_link": true
    }
  },
  "nbformat": 4,
  "nbformat_minor": 5
}